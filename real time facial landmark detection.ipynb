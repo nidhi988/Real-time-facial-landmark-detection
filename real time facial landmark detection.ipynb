{
 "cells": [
  {
   "cell_type": "code",
   "execution_count": null,
   "metadata": {},
   "outputs": [],
   "source": [
    "# import the necessary packages\n",
    "from imutils.video import VideoStream\n",
    "from imutils import face_utils\n",
    "import datetime\n",
    "import argparse\n",
    "import imutils\n",
    "import time\n",
    "import dlib\n",
    "import cv2"
   ]
  },
  {
   "cell_type": "code",
   "execution_count": null,
   "metadata": {},
   "outputs": [],
   "source": [
    "# construct the argument parse and parse the arguments\n",
    "ap = argparse.ArgumentParser()\n",
    "ap.add_argument(\"-p\", \"--shape-predictor\", required=True,\n",
    "help=\"path to facial landmark predictor\")\n",
    "ap.add_argument(\"-r\", \"--picamera\", type=int, default=-1,\n",
    "help=\"whether or not the Raspberry Pi camera should be used\")\n",
    "args = vars(ap.parse_args())"
   ]
  },
  {
   "cell_type": "code",
   "execution_count": null,
   "metadata": {},
   "outputs": [],
   "source": [
    "# initialize dlib's face detector (HOG-based) and then create\n",
    "# the facial landmark predictor\n",
    "print(\"[INFO] loading facial landmark predictor...\")\n",
    "detector = dlib.get_frontal_face_detector()\n",
    "predictor = dlib.shape_predictor(args[\"shape_predictor\"])"
   ]
  },
  {
   "cell_type": "code",
   "execution_count": null,
   "metadata": {},
   "outputs": [],
   "source": [
    "# initialize the video stream and allow the cammera sensor to warmup\n",
    "print(\"[INFO] camera sensor warming up...\")\n",
    "vs = VideoStream(usePiCamera=args[\"picamera\"] > 0).start()\n",
    "time.sleep(2.0)"
   ]
  },
  {
   "cell_type": "code",
   "execution_count": null,
   "metadata": {},
   "outputs": [],
   "source": [
    "# loop over the frames from the video stream\n",
    "while True:\n",
    "# grab the frame from the threaded video stream, resize it to\n",
    "# have a maximum width of 400 pixels, and convert it to\n",
    "# grayscale\n",
    "frame = vs.read()\n",
    "frame = imutils.resize(frame, width=400)\n",
    "gray = cv2.cvtColor(frame, cv2.COLOR_BGR2GRAY)\n",
    "# detect faces in the grayscale frame\n",
    "rects = detector(gray, 0)"
   ]
  },
  {
   "cell_type": "code",
   "execution_count": null,
   "metadata": {},
   "outputs": [],
   "source": [
    "# loop over the face detections\n",
    "for rect in rects:\n",
    "# determine the facial landmarks for the face region, then\n",
    "# convert the facial landmark (x, y)-coordinates to a NumPy\n",
    "# array\n",
    "shape = predictor(gray, rect)\n",
    "shape = face_utils.shape_to_np(shape)\n",
    "# loop over the (x, y)-coordinates for the facial landmarks\n",
    "# and draw them on the image\n",
    "for (x, y) in shape:\n",
    "cv2.circle(frame, (x, y), 1, (0, 0, 255), -1)\n",
    "  \n",
    "# show the frame\n",
    "cv2.imshow(\"Frame\", frame)\n",
    "key = cv2.waitKey(1) & 0xFF\n",
    " \n",
    "# if the `q` key was pressed, break from the loop\n",
    "if key == ord(\"q\"):\n",
    "break"
   ]
  },
  {
   "cell_type": "code",
   "execution_count": null,
   "metadata": {},
   "outputs": [],
   "source": [
    "# do a bit of cleanup\n",
    "cv2.destroyAllWindows()\n",
    "vs.stop()"
   ]
  }
 ],
 "metadata": {
  "kernelspec": {
   "display_name": "Python 3",
   "language": "python",
   "name": "python3"
  },
  "language_info": {
   "codemirror_mode": {
    "name": "ipython",
    "version": 3
   },
   "file_extension": ".py",
   "mimetype": "text/x-python",
   "name": "python",
   "nbconvert_exporter": "python",
   "pygments_lexer": "ipython3",
   "version": "3.8.1"
  }
 },
 "nbformat": 4,
 "nbformat_minor": 2
}
